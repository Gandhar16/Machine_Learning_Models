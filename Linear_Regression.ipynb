{
  "nbformat": 4,
  "nbformat_minor": 0,
  "metadata": {
    "colab": {
      "provenance": []
    },
    "kernelspec": {
      "name": "python3",
      "display_name": "Python 3"
    },
    "language_info": {
      "name": "python"
    }
  },
  "cells": [
    {
      "cell_type": "code",
      "execution_count": 2,
      "metadata": {
        "id": "e6OnADvzS8QX"
      },
      "outputs": [],
      "source": [
        "import sklearn\n",
        "import pandas as pd\n",
        "import numpy as np\n",
        "from sklearn import datasets\n",
        "from sklearn.linear_model import LinearRegression\n",
        "from sklearn.metrics import accuracy_score\n",
        "from sklearn.model_selection import train_test_split\n",
        "from sklearn.metrics import r2_score\n",
        "from sklearn.model_selection import GridSearchCV"
      ]
    },
    {
      "cell_type": "code",
      "source": [
        "df= datasets.load_diabetes()\n",
        "print(df.feature_names)"
      ],
      "metadata": {
        "colab": {
          "base_uri": "https://localhost:8080/"
        },
        "id": "pkRjH8JsTjcH",
        "outputId": "00cb9c52-3a62-41bc-da16-ef8d943cb7bc"
      },
      "execution_count": 3,
      "outputs": [
        {
          "output_type": "stream",
          "name": "stdout",
          "text": [
            "['age', 'sex', 'bmi', 'bp', 's1', 's2', 's3', 's4', 's5', 's6']\n"
          ]
        }
      ]
    },
    {
      "cell_type": "code",
      "source": [
        "x = df.data\n",
        "y = df.target\n"
      ],
      "metadata": {
        "id": "8etM_qjUUZol"
      },
      "execution_count": 4,
      "outputs": []
    },
    {
      "cell_type": "code",
      "source": [
        "x_train, x_test, y_train, y_test = train_test_split(x, y, test_size = 0.33, random_state=42)\n"
      ],
      "metadata": {
        "id": "jNoKXEGAVZVe"
      },
      "execution_count": 5,
      "outputs": []
    },
    {
      "cell_type": "code",
      "source": [
        "model = LinearRegression()\n",
        "model.fit(x_train, y_train)\n",
        "y_pred = model.predict(x_test)\n",
        "# acc = accuracy_score(y_test, y_pred)\n",
        "r2 = r2_score(y_test, y_pred)\n",
        "print(r2)\n",
        "print(model.get_params())"
      ],
      "metadata": {
        "colab": {
          "base_uri": "https://localhost:8080/"
        },
        "id": "dvSWzvKgVwhu",
        "outputId": "f76e0c15-9872-40be-b74e-bd0840c4664c"
      },
      "execution_count": 6,
      "outputs": [
        {
          "output_type": "stream",
          "name": "stdout",
          "text": [
            "0.510394257282125\n",
            "{'copy_X': True, 'fit_intercept': True, 'n_jobs': None, 'positive': False}\n"
          ]
        }
      ]
    },
    {
      "cell_type": "code",
      "source": [
        "params = {\n",
        "    'copy_X': [True, False],\n",
        "    'fit_intercept': [True, False],\n",
        "    'positive': [True, False],\n",
        "    'n_jobs': [None, -1]\n",
        "          }\n",
        "gc = GridSearchCV(model, params, cv=5)\n",
        "gc.fit(x_train, y_train)\n",
        "print(gc.best_params_)\n",
        "print(gc.best_score_)\n"
      ],
      "metadata": {
        "colab": {
          "base_uri": "https://localhost:8080/"
        },
        "id": "mKhJcOkrWKC0",
        "outputId": "51fdb915-4a24-4d51-b914-dd25879b2bc5"
      },
      "execution_count": 7,
      "outputs": [
        {
          "output_type": "stream",
          "name": "stdout",
          "text": [
            "{'copy_X': True, 'fit_intercept': True, 'n_jobs': None, 'positive': False}\n",
            "0.4519631771331894\n"
          ]
        }
      ]
    },
    {
      "cell_type": "code",
      "source": [],
      "metadata": {
        "id": "ZrtLFWTwYop8"
      },
      "execution_count": null,
      "outputs": []
    }
  ]
}